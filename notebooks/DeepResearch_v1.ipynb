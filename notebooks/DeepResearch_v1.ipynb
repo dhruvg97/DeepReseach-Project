{
 "cells": [
  {
   "cell_type": "markdown",
   "metadata": {},
   "source": [
    "# Deep Research Project"
   ]
  },
  {
   "cell_type": "markdown",
   "metadata": {},
   "source": [
    "Agentic AI Project to replicate OpenAI's Deep Research Agentic AI model. Using this reference primarily to start: https://www.analyticsvidhya.com/blog/2025/02/build-your-own-deep-research-agent/"
   ]
  },
  {
   "cell_type": "markdown",
   "metadata": {},
   "source": [
    "## Project Setup / APIs etc."
   ]
  },
  {
   "cell_type": "markdown",
   "metadata": {},
   "source": [
    "Adding Project Root to path to import src files and cofig etc."
   ]
  },
  {
   "cell_type": "code",
   "execution_count": 37,
   "metadata": {},
   "outputs": [],
   "source": [
    "import sys\n",
    "import os\n",
    "\n",
    "# Get the absolute path to the project root\n",
    "project_root = os.path.abspath(os.path.join(os.getcwd(), '..'))\n",
    "\n",
    "# Add the project root to the Python path\n",
    "if project_root not in sys.path:\n",
    "    sys.path.append(project_root)\n",
    "    \n",
    "# Now try importing\n",
    "from src import get_openai_key"
   ]
  },
  {
   "cell_type": "markdown",
   "metadata": {},
   "source": [
    "OpenAI API Key"
   ]
  },
  {
   "cell_type": "code",
   "execution_count": 38,
   "metadata": {},
   "outputs": [],
   "source": [
    "OPENAI_API_KEY = get_openai_key()"
   ]
  },
  {
   "cell_type": "markdown",
   "metadata": {},
   "source": [
    "Tavily API Key - Web Search Tool"
   ]
  },
  {
   "cell_type": "code",
   "execution_count": 39,
   "metadata": {},
   "outputs": [],
   "source": [
    "from src import get_tavily_key"
   ]
  },
  {
   "cell_type": "code",
   "execution_count": 40,
   "metadata": {},
   "outputs": [],
   "source": [
    "TAVILY_API_KEY = get_tavily_key()"
   ]
  },
  {
   "cell_type": "markdown",
   "metadata": {},
   "source": [
    "### Define Agent State Schema - using LangGraph"
   ]
  },
  {
   "cell_type": "code",
   "execution_count": 41,
   "metadata": {},
   "outputs": [],
   "source": [
    "from typing_extensions import TypedDict\n",
    "from pydantic import BaseModel, Field\n",
    "import operator\n",
    "from typing import Annotated, List, Optional, Literal\n",
    "\n",
    "# defines structure for each section in the report\n",
    "class Section(BaseModel):\n",
    "    name: str = Field(\n",
    "        description=\"Name for a particular section of the report.\",\n",
    "        )\n",
    "    description: str = Field(\n",
    "        description=\"Brief overview of the main topics and concepts to be covered in this section.\",\n",
    "        )\n",
    "    research: bool = Field(\n",
    "        description=\"Whether to perform web search for this section of the report.\"\n",
    "        )\n",
    "    content: str = Field(\n",
    "        description=\"The content for this section.\"\n",
    "        )\n",
    "\n",
    "class Sections(BaseModel):\n",
    "    sections: List[Section] = Field(\n",
    "        description=\"All the Sections of the overall report.\",\n",
    "        )\n",
    "\n",
    "# defines structure for queries generated for deep research\n",
    "class SearchQuery(BaseModel):\n",
    "    search_query: str = Field(None, description=\"Query for web search.\")\n",
    "\n",
    "class Queries(BaseModel):\n",
    "    queries: List[SearchQuery] = Field(\n",
    "        description=\"List of web search queries.\",\n",
    "        )\n",
    "\n",
    "# consists of input topic and output report generated\n",
    "class ReportStateInput(TypedDict):\n",
    "    topic: str # Report topic\n",
    "\n",
    "class ReportStateOutput(TypedDict):\n",
    "    final_report: str # Final report\n",
    "\n",
    "# overall agent state which will be passed and updated in nodes in the graph\n",
    "class ReportState(TypedDict):\n",
    "    topic: str # Report topic\n",
    "    sections: list[Section] # List of report sections\n",
    "    completed_sections: Annotated[list, operator.add] # Send() API\n",
    "    report_sections_from_research: str # completed sections to write final sections\n",
    "    final_report: str # Final report\n",
    "\n",
    "# defines the key structure for sections written using the agent \n",
    "class SectionState(TypedDict):\n",
    "    section: Section # Report section\n",
    "    search_queries: list[SearchQuery] # List of search queries\n",
    "    source_str: str # String of formatted source content from web search\n",
    "    report_sections_from_research: str # completed sections to write final sections\n",
    "    completed_sections: list[Section] # Final key in outer state for Send() API\n",
    "\n",
    "class SectionOutputState(TypedDict):\n",
    "    completed_sections: list[Section] # Final key in outer state for Send() API"
   ]
  },
  {
   "cell_type": "markdown",
   "metadata": {},
   "source": [
    "### Utility Functions"
   ]
  },
  {
   "cell_type": "markdown",
   "metadata": {},
   "source": [
    "1. run_search_queries(...)"
   ]
  },
  {
   "cell_type": "markdown",
   "metadata": {},
   "source": [
    "asynchronous search queries for a list of queries - returning results"
   ]
  },
  {
   "cell_type": "code",
   "execution_count": 42,
   "metadata": {},
   "outputs": [],
   "source": [
    "from langchain_community.utilities.tavily_search import TavilySearchAPIWrapper\n",
    "import asyncio\n",
    "from dataclasses import asdict, dataclass\n",
    "from typing import Dict, Any, List, Union\n",
    "\n",
    "# just to handle objects created from LLM reponses\n",
    "@dataclass\n",
    "class SearchQuery: #Creates a dataclass version of SearchQuery (different from your Pydantic model)\n",
    "    search_query: str\n",
    "    def to_dict(self) -> Dict[str, Any]: \n",
    "        return asdict(self)\n",
    "\n",
    "tavily_search = TavilySearchAPIWrapper()\n",
    "\n",
    "async def run_search_queries(\n",
    "    search_queries: List[Union[str, SearchQuery]],\n",
    "    num_results: int = 5,\n",
    "    include_raw_content: bool = False\n",
    ") -> List[Dict]:\n",
    "    search_tasks = []\n",
    "    for query in search_queries:\n",
    "        # Handle both string and SearchQuery objects\n",
    "        # Just in case LLM fails to generate queries as:\n",
    "        # class SearchQuery(BaseModel):\n",
    "        #     search_query: str\n",
    "        query_str = query.search_query if isinstance(query, SearchQuery) else str(query) # text query\n",
    "        try:\n",
    "            # get results from tavily async (in parallel) for each search query\n",
    "            search_tasks.append(\n",
    "                tavily_search.raw_results_async(\n",
    "                    query=query_str,\n",
    "                    max_results=num_results,\n",
    "                    search_depth='advanced',\n",
    "                    include_answer=False,\n",
    "                    include_raw_content=include_raw_content\n",
    "                )\n",
    "            )\n",
    "        except Exception as e:\n",
    "              print(f\"Error creating search task for query '{query_str}': {e}\")\n",
    "              continue\n",
    "    # Execute all searches concurrently and await results\n",
    "    try:\n",
    "        if not search_tasks:\n",
    "            return []\n",
    "        search_docs = await asyncio.gather(*search_tasks, return_exceptions=True)\n",
    "        # Filter out any exceptions from the results\n",
    "        valid_results = [\n",
    "            doc for doc in search_docs\n",
    "            if not isinstance(doc, Exception)\n",
    "        ]\n",
    "        return valid_results\n",
    "    except Exception as e:\n",
    "        print(f\"Error during search queries: {e}\")\n",
    "        return []"
   ]
  },
  {
   "cell_type": "markdown",
   "metadata": {},
   "source": [
    "2. format_search_query_results(...)"
   ]
  },
  {
   "cell_type": "markdown",
   "metadata": {},
   "source": [
    "Extract content from Web search showing source, URL, and content"
   ]
  },
  {
   "cell_type": "code",
   "execution_count": 43,
   "metadata": {},
   "outputs": [],
   "source": [
    "import tiktoken\n",
    "from typing import List, Dict, Union, Any\n",
    "\n",
    "def format_search_query_results(\n",
    "    search_response: Union[Dict[str, Any], List[Any]],\n",
    "    max_tokens: int = 2000,\n",
    "    include_raw_content: bool = False\n",
    ") -> str:\n",
    "    encoding = tiktoken.encoding_for_model(\"gpt-4\")\n",
    "    sources_list = []\n",
    "\n",
    "    # Handle different response formats if search results is a dict\n",
    "    if isinstance(search_response, dict):\n",
    "        if 'results' in search_response:\n",
    "            sources_list.extend(search_response['results'])\n",
    "        else:\n",
    "            sources_list.append(search_response)\n",
    "    # if search results is a list\n",
    "    elif isinstance(search_response, list):\n",
    "        for response in search_response:\n",
    "            if isinstance(response, dict):\n",
    "                if 'results' in response:\n",
    "                    sources_list.extend(response['results'])\n",
    "                else:\n",
    "                    sources_list.append(response)\n",
    "            elif isinstance(response, list):\n",
    "                sources_list.extend(response)\n",
    "\n",
    "    if not sources_list:\n",
    "        return \"No search results found.\"\n",
    "\n",
    "    # Deduplicate by URL and keep unique sources (website urls)\n",
    "    unique_sources = {}\n",
    "    for source in sources_list:\n",
    "        if isinstance(source, dict) and 'url' in source:\n",
    "            if source['url'] not in unique_sources:\n",
    "                unique_sources[source['url']] = source\n",
    "\n",
    "    # Format output\n",
    "    formatted_text = \"Content from web search:\\n\\n\"\n",
    "    for i, source in enumerate(unique_sources.values(), 1):\n",
    "        formatted_text += f\"Source {source.get('title', 'Untitled')}:\\n===\\n\"\n",
    "        formatted_text += f\"URL: {source['url']}\\n===\\n\"\n",
    "        formatted_text += f\"Most relevant content from source: {source.get('content', 'No content available')}\\n===\\n\"\n",
    "\n",
    "        if include_raw_content:\n",
    "            # truncate raw webpage content to a certain number of tokens to prevent exceeding LLM max token window\n",
    "            raw_content = source.get(\"raw_content\", \"\")\n",
    "            if raw_content:\n",
    "                tokens = encoding.encode(raw_content)\n",
    "                truncated_tokens = tokens[:max_tokens]\n",
    "                truncated_content = encoding.decode(truncated_tokens)\n",
    "                formatted_text += f\"Raw Content: {truncated_content}\\n\\n\"\n",
    "\n",
    "\n",
    "    return formatted_text.strip()"
   ]
  },
  {
   "cell_type": "markdown",
   "metadata": {},
   "source": [
    "test functions"
   ]
  },
  {
   "cell_type": "code",
   "execution_count": 44,
   "metadata": {},
   "outputs": [
    {
     "name": "stdout",
     "output_type": "stream",
     "text": [
      "Content from web search:\n",
      "\n",
      "Source Dulwich College - Wikipedia:\n",
      "===\n",
      "URL: https://en.wikipedia.org/wiki/Dulwich_College\n",
      "===\n",
      "Most relevant content from source: Dulwich College is a 2–18 private, day and boarding school for boys in Dulwich, London, England. As a public school, it began as the College of God's Gift, founded in 1619 by Elizabethan actor Edward Alleyn, with the original purpose of educating 12 poor scholars. It began to grow into a large school from 1857 and took its current form in 1870, when it moved into its current premises. [...] Appearance\n",
      "move to sidebar hide\n",
      "Coordinates: 51°26′22″N 00°05′03″W / 51.43944°N 0.08417°W / 51.43944; -0.08417\n",
      "From Wikipedia, the free encyclopedia\n",
      "Public school in London, England\n",
      "| Dulwich College |\n",
      "| --- |\n",
      "|  |\n",
      "|  |\n",
      "| Address |\n",
      "|  |\n",
      "| \n",
      "Dulwich Common, Dulwich\n",
      "London\n",
      ",\n",
      "SE21 7LD\n",
      "England\n",
      "|\n",
      "| Coordinates | 51°26′22″N 00°05′03″W / 51.43944°N 0.08417°W / 51.43944; -0.08417 |\n",
      "| Information |\n",
      "| Type | Public school\n",
      "Private day and boarding school |\n",
      "| Motto | Latin: Detur Gloria Soli Deo [...] (Let Glory Be Given To God Alone) |\n",
      "| Established | 1619; 406 years ago (1619) |\n",
      "| Founder | Edward Alleyn |\n",
      "| Local authority | Southwark London Borough Council |\n",
      "| Department for Education URN | 100861 Tables |\n",
      "| Chair | Peter Riddell[1] |\n",
      "| The Master | Joseph Spence |\n",
      "| Gender | Boys |\n",
      "| Age range | 2–19 |\n",
      "| Enrolment | 1,820 (2018)[2] |\n",
      "| Capacity | 1,750[2] |\n",
      "| Houses |\n",
      "===\n",
      "Source Dulwich College (UK) Review - WhichSchoolAdvisor:\n",
      "===\n",
      "URL: https://whichschooladvisor.com/uk/school-review/dulwich-college-uk\n",
      "===\n",
      "Most relevant content from source: Dulwich College is a selective day and boarding school in London with the combination of heritage and forward-thinking vision that many British public schools are renowned for. While it is most certainly a school for the academically-minded, Dulwich also has a strong pioneering spirit, a history of philanthropy, and a focus on the development of passionate free learners. [...] Founded in 1619, Dulwich is one of the UK’s oldest public schools. The school is by no means shackled by the past, however, and has a forward-thinking belief in developing “passionate free learners”. Central to the ethos of the school is deep, free and memorable learning, which Dulwich aims to achieve through learning activities that go beyond the National Curriculum for England – and are free from exams. Examples include the Excellence and Enrichment curriculum, the Year 6 Great Exhibition on [...] Located just 15 minutes away from London’s city centre, Dulwich College’s campus has the heritage (walking through the great hall and sweeping staircases of its historic buildings will never lose its magic); the great outdoors (it has 70 acres of grounds and an outdoor centre in the Brecon Beacons); and the future (the addition of new teaching blocks and state of the art facilities keeps Dulwich’s teaching in the 21st century). It is well connected – West Dulwich tube station is just outside\n",
      "===\n",
      "Source Discover the History of Our Founding School | Dulwich College ...:\n",
      "===\n",
      "URL: https://www.dulwich.org/dulwich-life/discover-the-history-of-our-founding-school\n",
      "===\n",
      "Most relevant content from source: Today, Dulwich College is an academically selective boys' school, attracting students from the top 15% of the UK academic range. Having built a solid reputation for strong academics, inspired teaching and educational innovations. Its academic strength is matched by its broad and challenging co-curricular programme in sports, music, visual arts, drama and debate. [...] Discover the History of Our Founding School\n",
      "\n",
      "Dulwich College was founded by Edward Alleyn on 21 June, 1619 with letters patent from King James I. An actor linked to Shakespeare's Globe Theatre and an entrepreneur in the world of Elizabethan and Jacobean theatre, Alleyn was a colourful and famous figure of his days. Alleyn decided to establish a school for boys in London that would provide sound learning, strong artistic pursuits and good manners. [...] Over four centuries, Dulwich College has established a tradition of inspired learning, genuine scholarship, and free thinking. The College has long been a pioneer in education. In the 1880s, Master Canon Carver introduced the \"Modern Curriculum\" to the College, and in the 1940s, the College embarked on the \"Dulwich Experiment\", admitting students on a needs-blind basis, based on academic ability alone.\n",
      "===\n",
      "Source History - About - Dulwich College:\n",
      "===\n",
      "URL: https://www.dulwich.org.uk/about/history\n",
      "===\n",
      "Most relevant content from source: Dulwich College was founded by Edward Alleyn on June 21st 1619, with letters patent from King James I. This magnificent document with the Great Seal of England still survives. Alleyn was an actor and an entrepreneur in the world of Elizabethan and Jacobean theatre, a colourful and famous figure of his day.\n",
      "\n",
      "From Dulwich College: A brief history and guide to the buildings, by J R Piggott MA PhD, former Keeper of the Archives, Dulwich College.\n",
      "\n",
      "Discover More\n",
      "\n",
      "\n",
      "\n",
      "\n",
      "\n",
      "\n",
      "\n",
      "News\n",
      "\n",
      "Contact Us\n",
      "===\n",
      "Source Our International Schools and Colleges - Dulwich:\n",
      "===\n",
      "URL: https://www.dulwich.org/schools\n",
      "===\n",
      "Most relevant content from source: When Dulwich College Shanghai opened in the Pudong area of the city in 2003, it became the first British independent school to open in China. Since then, the DCI network of schools has grown to include international Colleges and international High Schools in China, as well as international Colleges in Singapore, Seoul and Yangon. In 2017, DCI welcomed its sister school, Dehong Chinese International School in Shanghai.  \n",
      "Please click on the interactive map to find out more.\n",
      "Connect with us\n",
      "===\n"
     ]
    }
   ],
   "source": [
    "docs = await run_search_queries(['Dulwich College'], include_raw_content=True)\n",
    "output = format_search_query_results(docs, max_tokens=500, \n",
    "   include_raw_content=False)\n",
    "print(output)"
   ]
  },
  {
   "cell_type": "markdown",
   "metadata": {},
   "source": [
    "## Report Planner"
   ]
  },
  {
   "cell_type": "markdown",
   "metadata": {},
   "source": [
    "### Creating Default Report Template"
   ]
  },
  {
   "cell_type": "markdown",
   "metadata": {},
   "source": [
    "Prompt guide for LLM to build report based on general structure"
   ]
  },
  {
   "cell_type": "code",
   "execution_count": 45,
   "metadata": {},
   "outputs": [
    {
     "name": "stderr",
     "output_type": "stream",
     "text": [
      "<>:2: SyntaxWarning: invalid escape sequence '\\$'\n",
      "<>:2: SyntaxWarning: invalid escape sequence '\\$'\n",
      "/var/folders/b9/7f7wyjx96sq26wl90hdfx3hw0000gn/T/ipykernel_79280/3399040039.py:2: SyntaxWarning: invalid escape sequence '\\$'\n",
      "  DEFAULT_REPORT_STRUCTURE = \"\"\"The report structure should focus on breaking-down the user-provided topic\n"
     ]
    }
   ],
   "source": [
    "# Structure Guideline\n",
    "DEFAULT_REPORT_STRUCTURE = \"\"\"The report structure should focus on breaking-down the user-provided topic\n",
    "                              and building a comprehensive report in markdown using the following format:\n",
    "\n",
    "\n",
    "                              1. Introduction (no web search needed)\n",
    "                                    - Brief overview of the topic area\n",
    "\n",
    "\n",
    "                              2. Main Body Sections:\n",
    "                                    - Each section should focus on a sub-topic of the user-provided topic\n",
    "                                    - Include any key concepts and definitions\n",
    "                                    - Provide real-world examples or case studies where applicable\n",
    "\n",
    "\n",
    "                              3. Conclusion (no web search needed)\n",
    "                                    - Aim for 1 structural element (either a list of table) that distills the main body sections\n",
    "                                    - Provide a concise summary of the report\n",
    "\n",
    "\n",
    "                              When generating the final response in markdown, if there are special characters in the text,\n",
    "                              such as the dollar symbol, ensure they are escaped properly for correct rendering e.g $25.5 should become \\$25.5\n",
    "                          \"\"\""
   ]
  },
  {
   "cell_type": "markdown",
   "metadata": {},
   "source": [
    "### Instruction Prompts for Report Planner"
   ]
  },
  {
   "cell_type": "markdown",
   "metadata": {},
   "source": [
    "1. REPORT_PLAN_QUERY_GENERATOR_PROMT"
   ]
  },
  {
   "cell_type": "markdown",
   "metadata": {},
   "source": [
    "Helps LLM get a list of q's based on topic to form report sections"
   ]
  },
  {
   "cell_type": "code",
   "execution_count": 46,
   "metadata": {},
   "outputs": [],
   "source": [
    "REPORT_PLAN_QUERY_GENERATOR_PROMPT = \"\"\"You are an expert technical report writer, helping to plan a report.\n",
    "\n",
    "The report will be focused on the following topic:\n",
    "{topic}\n",
    "\n",
    "The report structure will follow these guidelines:\n",
    "{report_organization}\n",
    "\n",
    "Your goal is to generate {number_of_queries} search queries that will help gather comprehensive information for planning the report sections.\n",
    "\n",
    "The query should:\n",
    "1. Be related to the topic\n",
    "2. Help satisfy the requirements specified in the report organization\n",
    "\n",
    "Make the query specific enough to find high-quality, relevant sources while covering the depth and breadth needed for the report structure.\n",
    "\"\"\""
   ]
  },
  {
   "cell_type": "markdown",
   "metadata": {},
   "source": [
    "2. REPORT_PLAN_SECTION_GENERATOR_PROMPT"
   ]
  },
  {
   "cell_type": "markdown",
   "metadata": {},
   "source": [
    "LLM generating section structure according to specific output"
   ]
  },
  {
   "cell_type": "code",
   "execution_count": 47,
   "metadata": {},
   "outputs": [],
   "source": [
    "REPORT_PLAN_SECTION_GENERATOR_PROMPT = \"\"\"You are an expert technical report writer, helping to plan a report.\n",
    "\n",
    "Your goal is to generate the outline of the sections of the report.\n",
    "\n",
    "The overall topic of the report is:\n",
    "{topic}\n",
    "\n",
    "The report should follow this organizational structure:\n",
    "{report_organization}\n",
    "\n",
    "You should reflect on this additional context information from web searches to plan the main sections of the report:\n",
    "{search_context}\n",
    "\n",
    "Now, generate the sections of the report. Each section should have the following fields:\n",
    "- Name - Name for this section of the report.\n",
    "- Description - Brief overview of the main topics and concepts to be covered in this section.\n",
    "- Research - Whether to perform web search for this section of the report or not.\n",
    "- Content - The content of the section, which you will leave blank for now.\n",
    "\n",
    "Consider which sections require web search.\n",
    "For example, introduction and conclusion will not require research because they will distill information from other parts of the report.\n",
    "\"\"\""
   ]
  },
  {
   "cell_type": "markdown",
   "metadata": {},
   "source": [
    "### Node Function for Report Planner"
   ]
  },
  {
   "cell_type": "markdown",
   "metadata": {},
   "source": [
    "combine prompts to generate queries based on user topic, search web and get infromation, use info to generate structure and sections of report"
   ]
  },
  {
   "cell_type": "code",
   "execution_count": 48,
   "metadata": {},
   "outputs": [],
   "source": [
    "from langchain_openai import ChatOpenAI\n",
    "from langchain_core.messages import HumanMessage, SystemMessage\n",
    "\n",
    "llm = ChatOpenAI(model_name=\"gpt-4o\", temperature=0)\n",
    "\n",
    "async def generate_report_plan(state: ReportState):\n",
    "    \"\"\"Generate the overall plan for building the report\"\"\"\n",
    "    topic = state[\"topic\"]\n",
    "    print('--- Generating Report Plan ---')\n",
    "\n",
    "    report_structure = DEFAULT_REPORT_STRUCTURE\n",
    "    number_of_queries = 8\n",
    "\n",
    "    structured_llm = llm.with_structured_output(Queries)\n",
    "\n",
    "    system_instructions_query = REPORT_PLAN_QUERY_GENERATOR_PROMPT.format(\n",
    "        topic=topic,\n",
    "        report_organization=report_structure,\n",
    "        number_of_queries=number_of_queries\n",
    "    )\n",
    "\n",
    "    try:\n",
    "        # Generate queries\n",
    "        results = structured_llm.invoke([\n",
    "            SystemMessage(content=system_instructions_query),\n",
    "            HumanMessage(content='Generate search queries that will help with planning the sections of the report.')\n",
    "        ])\n",
    "        # Convert SearchQuery objects to strings\n",
    "        query_list = [\n",
    "            query.search_query if isinstance(query, SearchQuery) else str(query)\n",
    "            for query in results.queries\n",
    "        ]\n",
    "        # Search web and ensure we wait for results\n",
    "        search_docs = await run_search_queries(\n",
    "            query_list,\n",
    "            num_results=5,\n",
    "            include_raw_content=False\n",
    "        )\n",
    "        if not search_docs:\n",
    "            print(\"Warning: No search results returned\")\n",
    "            search_context = \"No search results available.\"\n",
    "        else:\n",
    "            search_context = format_search_query_results(\n",
    "                search_docs,\n",
    "                include_raw_content=False\n",
    "            )\n",
    "        # Generate sections\n",
    "        system_instructions_sections = REPORT_PLAN_SECTION_GENERATOR_PROMPT.format(\n",
    "            topic=topic,\n",
    "            report_organization=report_structure,\n",
    "            search_context=search_context\n",
    "        )\n",
    "        structured_llm = llm.with_structured_output(Sections)\n",
    "        report_sections = structured_llm.invoke([\n",
    "            SystemMessage(content=system_instructions_sections),\n",
    "            HumanMessage(content=\"Generate the sections of the report. Your response must include a 'sections' field containing a list of sections. Each section must have: name, description, plan, research, and content fields.\")\n",
    "        ])\n",
    "\n",
    "        print('--- Generating Report Plan Completed ---')\n",
    "        return {\"sections\": report_sections.sections}\n",
    "\n",
    "    except Exception as e:\n",
    "        print(f\"Error in generate_report_plan: {e}\")\n",
    "        return {\"sections\": []}"
   ]
  },
  {
   "cell_type": "markdown",
   "metadata": {},
   "source": [
    "## Section Builder"
   ]
  },
  {
   "cell_type": "markdown",
   "metadata": {},
   "source": [
    "### Query Generator"
   ]
  },
  {
   "cell_type": "markdown",
   "metadata": {},
   "source": [
    "1. REPORT_SECTION_QUERY_GENERATOR_PROMPT"
   ]
  },
  {
   "cell_type": "markdown",
   "metadata": {},
   "source": [
    "helps the LLM generate a comprehensive list of questions for the topic of that specific section which needs to be built"
   ]
  },
  {
   "cell_type": "code",
   "execution_count": 49,
   "metadata": {},
   "outputs": [],
   "source": [
    "REPORT_SECTION_QUERY_GENERATOR_PROMPT = \"\"\"Your goal is to generate targeted web search queries that will gather comprehensive information for writing a technical report section.\n",
    "\n",
    "Topic for this section:\n",
    "{section_topic}\n",
    "\n",
    "When generating {number_of_queries} search queries, ensure that they:\n",
    "1. Cover different aspects of the topic (e.g., core features, real-world applications, technical architecture)\n",
    "2. Include specific technical terms related to the topic\n",
    "3. Target recent information by including year markers where relevant (e.g., \"2024\")\n",
    "4. Look for comparisons or differentiators from similar technologies/approaches\n",
    "5. Search for both official documentation and practical implementation examples\n",
    "\n",
    "Your queries should be:\n",
    "- Specific enough to avoid generic results\n",
    "- Technical enough to capture detailed implementation information\n",
    "- Diverse enough to cover all aspects of the section plan\n",
    "- Focused on authoritative sources (documentation, technical blogs, academic papers)\"\"\"\n"
   ]
  },
  {
   "cell_type": "markdown",
   "metadata": {},
   "source": [
    "Node Function for Query Generator"
   ]
  },
  {
   "cell_type": "code",
   "execution_count": 50,
   "metadata": {},
   "outputs": [],
   "source": [
    "def generate_queries(state: SectionState):\n",
    "    \"\"\" Generate search queries for a specific report section \"\"\"\n",
    "\n",
    "    # Get state\n",
    "    section = state[\"section\"]\n",
    "    print('--- Generating Search Queries for Section: '+ section.name +' ---')\n",
    "    # Get configuration\n",
    "    number_of_queries = 5\n",
    "    # Generate queries\n",
    "    structured_llm = llm.with_structured_output(Queries)\n",
    "    # Format system instructions\n",
    "    system_instructions = REPORT_SECTION_QUERY_GENERATOR_PROMPT.format(section_topic=section.description,                                                                       number_of_queries=number_of_queries)\n",
    "    # Generate queries\n",
    "    user_instruction = \"Generate search queries on the provided topic.\"\n",
    "    search_queries = structured_llm.invoke([SystemMessage(content=system_instructions),\n",
    "                                     HumanMessage(content=user_instruction)])\n",
    "\n",
    "    print('--- Generating Search Queries for Section: '+ section.name +' Completed ---')\n",
    "    return {\"search_queries\": search_queries.queries}"
   ]
  },
  {
   "cell_type": "markdown",
   "metadata": {},
   "source": [
    "Node Function for web search"
   ]
  },
  {
   "cell_type": "code",
   "execution_count": 51,
   "metadata": {},
   "outputs": [],
   "source": [
    "async def search_web(state: SectionState):\n",
    "    \"\"\" Search the web for each query, then return a list of raw sources and a formatted string of sources.\"\"\"\n",
    "\n",
    "    # Get state\n",
    "    search_queries = state[\"search_queries\"]\n",
    "    print('--- Searching Web for Queries ---')\n",
    "    # Web search\n",
    "    query_list = [query.search_query for query in search_queries]\n",
    "    search_docs = await run_search_queries(search_queries, num_results=6, include_raw_content=False)\n",
    "    # Deduplicate and format sources\n",
    "    search_context = format_search_query_results(search_docs, max_tokens=4000, include_raw_content=False)\n",
    "\n",
    "    print('--- Searching Web for Queries Completed ---')\n",
    "    return {\"source_str\": search_context}"
   ]
  },
  {
   "cell_type": "markdown",
   "metadata": {},
   "source": [
    "### Section Writer"
   ]
  },
  {
   "cell_type": "markdown",
   "metadata": {},
   "source": [
    "1. SECTION_WRITER_PROMPT"
   ]
  },
  {
   "cell_type": "markdown",
   "metadata": {},
   "source": [
    "prompt to write conent section in a certain style"
   ]
  },
  {
   "cell_type": "code",
   "execution_count": 52,
   "metadata": {},
   "outputs": [
    {
     "name": "stderr",
     "output_type": "stream",
     "text": [
      "<>:1: SyntaxWarning: invalid escape sequence '\\$'\n",
      "<>:1: SyntaxWarning: invalid escape sequence '\\$'\n",
      "/var/folders/b9/7f7wyjx96sq26wl90hdfx3hw0000gn/T/ipykernel_79280/4210525775.py:1: SyntaxWarning: invalid escape sequence '\\$'\n",
      "  SECTION_WRITER_PROMPT = \"\"\"You are an expert technical writer crafting one specific section of a technical report.\n"
     ]
    }
   ],
   "source": [
    "SECTION_WRITER_PROMPT = \"\"\"You are an expert technical writer crafting one specific section of a technical report.\n",
    "\n",
    "Title for the section:\n",
    "{section_title}\n",
    "\n",
    "Topic for this section:\n",
    "{section_topic}\n",
    "\n",
    "Guidelines for writing:\n",
    "\n",
    "1. Technical Accuracy:\n",
    "- Include specific version numbers\n",
    "- Reference concrete metrics/benchmarks\n",
    "- Cite official documentation\n",
    "- Use technical terminology precisely\n",
    "\n",
    "2. Length and Style:\n",
    "- Strict 150-200 word limit\n",
    "- No marketing language\n",
    "- Technical focus\n",
    "- Write in simple, clear language do not use complex words unnecessarily\n",
    "- Start with your most important insight in **bold**\n",
    "- Use short paragraphs (2-3 sentences max)\n",
    "\n",
    "3. Structure:\n",
    "- Use ## for section title (Markdown format)\n",
    "- Only use ONE structural element IF it helps clarify your point:\n",
    "  * Either a focused table comparing 2-3 key items (using Markdown table syntax)\n",
    "  * Or a short list (3-5 items) using proper Markdown list syntax:\n",
    "    - Use `*` or `-` for unordered lists\n",
    "    - Use `1.` for ordered lists\n",
    "    - Ensure proper indentation and spacing\n",
    "- End with ### Sources that references the below source material formatted as:\n",
    "  * List each source with title, date, and URL\n",
    "  * Format: `- Title : URL`\n",
    "\n",
    "3. Writing Approach:\n",
    "- Include at least one specific example or case study if available\n",
    "- Use concrete details over general statements\n",
    "- Make every word count\n",
    "- No preamble prior to creating the section content\n",
    "- Focus on your single most important point\n",
    "\n",
    "4. Use this source material obtained from web searches to help write the section:\n",
    "{context}\n",
    "\n",
    "5. Quality Checks:\n",
    "- Format should be Markdown\n",
    "- Exactly 150-200 words (excluding title and sources)\n",
    "- Careful use of only ONE structural element (table or bullet list) and only if it helps clarify your point\n",
    "- One specific example / case study if available\n",
    "- Starts with bold insight\n",
    "- No preamble prior to creating the section content\n",
    "- Sources cited at end\n",
    "- If there are special characters in the text, such as the dollar symbol,\n",
    "  ensure they are escaped properly for correct rendering e.g $25.5 should become \\$25.5\n",
    "\"\"\""
   ]
  },
  {
   "cell_type": "markdown",
   "metadata": {},
   "source": [
    "Node Function for Section Writer"
   ]
  },
  {
   "cell_type": "code",
   "execution_count": 53,
   "metadata": {},
   "outputs": [],
   "source": [
    "def write_section(state: SectionState):\n",
    "    \"\"\" Write a section of the report \"\"\"\n",
    "\n",
    "    # Get state\n",
    "    section = state[\"section\"]\n",
    "    source_str = state[\"source_str\"]\n",
    "    print('--- Writing Section : '+ section.name +' ---')\n",
    "    # Format system instructions\n",
    "    system_instructions = SECTION_WRITER_PROMPT.format(section_title=section.name,\n",
    "                                                       section_topic=section.description,\n",
    "                                                       context=source_str)\n",
    "    # Generate section\n",
    "    user_instruction = \"Generate a report section based on the provided sources.\"\n",
    "    section_content = llm.invoke([SystemMessage(content=system_instructions),\n",
    "                                  HumanMessage(content=user_instruction)])\n",
    "    # Write content to the section object\n",
    "    section.content = section_content.content\n",
    "\n",
    "    print('--- Writing Section : '+ section.name +' Completed ---')\n",
    "    # Write the updated section to completed sections\n",
    "    return {\"completed_sections\": [section]}"
   ]
  },
  {
   "cell_type": "markdown",
   "metadata": {},
   "source": [
    "### Section Builder Sub-Agent"
   ]
  },
  {
   "cell_type": "markdown",
   "metadata": {},
   "source": [
    "Sub-agent called several times in parallel for each section to get content and write up specific section. Using LangGraph Send Construct"
   ]
  },
  {
   "cell_type": "code",
   "execution_count": 54,
   "metadata": {},
   "outputs": [
    {
     "data": {
      "image/png": "[encoded data removed]",
      "text/plain": [
       "<IPython.core.display.Image object>"
      ]
     },
     "execution_count": 54,
     "metadata": {},
     "output_type": "execute_result"
    }
   ],
   "source": [
    "from langgraph.graph import StateGraph, START, END\n",
    "\n",
    "# Add nodes and edges\n",
    "section_builder = StateGraph(SectionState, output=SectionOutputState)\n",
    "section_builder.add_node(\"generate_queries\", generate_queries)\n",
    "section_builder.add_node(\"search_web\", search_web)\n",
    "section_builder.add_node(\"write_section\", write_section)\n",
    "section_builder.add_edge(START, \"generate_queries\")\n",
    "section_builder.add_edge(\"generate_queries\", \"search_web\")\n",
    "section_builder.add_edge(\"search_web\", \"write_section\")\n",
    "section_builder.add_edge(\"write_section\", END)\n",
    "section_builder_subagent = section_builder.compile()\n",
    "\n",
    "# Display the graph\n",
    "from IPython.display import display, Image\n",
    "Image(section_builder_subagent.get_graph().draw_mermaid_png())\n"
   ]
  },
  {
   "cell_type": "markdown",
   "metadata": {},
   "source": [
    "### Parallelise Section Writing"
   ]
  },
  {
   "cell_type": "markdown",
   "metadata": {},
   "source": [
    "LangGraph Send() used to parallelise and call sub-agent builder"
   ]
  },
  {
   "cell_type": "code",
   "execution_count": 55,
   "metadata": {},
   "outputs": [],
   "source": [
    "from langgraph.constants import Send\n",
    "\n",
    "\n",
    "def parallelize_section_writing(state: ReportState):\n",
    "    \"\"\" This is the \"map\" step when we kick off web research for some sections of the report in parallel and then write the section\"\"\"\n",
    "\n",
    "\n",
    "    # Kick off section writing in parallel via Send() API for any sections that require research\n",
    "    return [\n",
    "        Send(\"section_builder_with_web_search\", # name of the subagent node\n",
    "             {\"section\": s})\n",
    "            for s in state[\"sections\"]\n",
    "              if s.research\n",
    "    ]"
   ]
  },
  {
   "cell_type": "markdown",
   "metadata": {},
   "source": [
    "## Format Section"
   ]
  },
  {
   "cell_type": "markdown",
   "metadata": {},
   "source": [
    "### Format Section Node Function"
   ]
  },
  {
   "cell_type": "markdown",
   "metadata": {},
   "source": [
    "Allsections are formatted and combined into 1 document"
   ]
  },
  {
   "cell_type": "code",
   "execution_count": 56,
   "metadata": {},
   "outputs": [],
   "source": [
    "def format_sections(sections: list[Section]) -> str:\n",
    "    \"\"\" Format a list of report sections into a single text string \"\"\"\n",
    "    formatted_str = \"\"\n",
    "    for idx, section in enumerate(sections, 1):\n",
    "        formatted_str += f\"\"\"\n",
    "{'='*60}\n",
    "Section {idx}: {section.name}\n",
    "{'='*60}\n",
    "Description:\n",
    "{section.description}\n",
    "Requires Research:\n",
    "{section.research}\n",
    "\n",
    "Content:\n",
    "{section.content if section.content else '[Not yet written]'}\n",
    "\n",
    "\"\"\"\n",
    "    return formatted_str\n",
    "\n",
    "def format_completed_sections(state: ReportState):\n",
    "    \"\"\" Gather completed sections from research and format them as context for writing the final sections \"\"\"\n",
    "\n",
    "    print('--- Formatting Completed Sections ---')\n",
    "    # List of completed sections\n",
    "    completed_sections = state[\"completed_sections\"]\n",
    "    # Format completed section to str to use as context for final sections\n",
    "    completed_report_sections = format_sections(completed_sections)\n",
    "\n",
    "    print('--- Formatting Completed Sections is Done ---')\n",
    "    return {\"report_sections_from_research\": completed_report_sections}"
   ]
  },
  {
   "cell_type": "markdown",
   "metadata": {},
   "source": [
    "## Final Section Writer"
   ]
  },
  {
   "cell_type": "markdown",
   "metadata": {},
   "source": [
    "1. FINAL_SECTION_WRITER_PROMPT"
   ]
  },
  {
   "cell_type": "markdown",
   "metadata": {},
   "source": [
    "LLM generates intro or conc using guidelines. Content of already written sections are sent."
   ]
  },
  {
   "cell_type": "code",
   "execution_count": 57,
   "metadata": {},
   "outputs": [
    {
     "name": "stderr",
     "output_type": "stream",
     "text": [
      "<>:1: SyntaxWarning: invalid escape sequence '\\$'\n",
      "<>:1: SyntaxWarning: invalid escape sequence '\\$'\n",
      "/var/folders/b9/7f7wyjx96sq26wl90hdfx3hw0000gn/T/ipykernel_79280/1591155706.py:1: SyntaxWarning: invalid escape sequence '\\$'\n",
      "  FINAL_SECTION_WRITER_PROMPT = \"\"\"You are an expert technical writer crafting a section that synthesizes information from the rest of the report.\n"
     ]
    }
   ],
   "source": [
    "FINAL_SECTION_WRITER_PROMPT = \"\"\"You are an expert technical writer crafting a section that synthesizes information from the rest of the report.\n",
    "\n",
    "Title for the section:\n",
    "{section_title}\n",
    "\n",
    "Topic for this section:\n",
    "{section_topic}\n",
    "\n",
    "Available report content of already completed sections:\n",
    "{context}\n",
    "\n",
    "1. Section-Specific Approach:\n",
    "\n",
    "For Introduction:\n",
    "- Use # for report title (Markdown format)\n",
    "- 50-100 word limit\n",
    "- Write in simple and clear language\n",
    "- Focus on the core motivation for the report in 1-2 paragraphs\n",
    "- Use a clear narrative arc to introduce the report\n",
    "- Include NO structural elements (no lists or tables)\n",
    "- No sources section needed\n",
    "\n",
    "For Conclusion/Summary:\n",
    "- Use ## for section title (Markdown format)\n",
    "- 100-150 word limit\n",
    "- For comparative reports:\n",
    "    * Must include a focused comparison table using Markdown table syntax\n",
    "    * Table should distill insights from the report\n",
    "    * Keep table entries clear and concise\n",
    "- For non-comparative reports:\n",
    "    * Only use ONE structural element IF it helps distill the points made in the report:\n",
    "    * Either a focused table comparing items present in the report (using Markdown table syntax)\n",
    "    * Or a short list using proper Markdown list syntax:\n",
    "      - Use `*` or `-` for unordered lists\n",
    "      - Use `1.` for ordered lists\n",
    "      - Ensure proper indentation and spacing\n",
    "- End with specific next steps or implications\n",
    "- No sources section needed\n",
    "\n",
    "3. Writing Approach:\n",
    "- Use concrete details over general statements\n",
    "- Make every word count\n",
    "- Focus on your single most important point\n",
    "\n",
    "4. Quality Checks:\n",
    "- For introduction: 50-100 word limit, # for report title, no structural elements, no sources section\n",
    "- For conclusion: 100-150 word limit, ## for section title, only ONE structural element at most, no sources section\n",
    "- Markdown format\n",
    "- Do not include word count or any preamble in your response\n",
    "- If there are special characters in the text, such as the dollar symbol,\n",
    "  ensure they are escaped properly for correct rendering e.g $25.5 should become \\$25.5\"\"\""
   ]
  },
  {
   "cell_type": "markdown",
   "metadata": {},
   "source": [
    "### Node Function for Final Sections"
   ]
  },
  {
   "cell_type": "code",
   "execution_count": 58,
   "metadata": {},
   "outputs": [],
   "source": [
    "def write_final_sections(state: SectionState):\n",
    "    \"\"\" Write the final sections of the report, which do not require web search and use the completed sections as context\"\"\"\n",
    "\n",
    "    # Get state\n",
    "    section = state[\"section\"]\n",
    "    completed_report_sections = state[\"report_sections_from_research\"]\n",
    "\n",
    "    print('--- Writing Final Section: '+ section.name + ' ---')\n",
    "    # Format system instructions\n",
    "    system_instructions = FINAL_SECTION_WRITER_PROMPT.format(section_title=section.name,\n",
    "                                                             section_topic=section.description,\n",
    "                                                             context=completed_report_sections)\n",
    "\n",
    "    # Generate section\n",
    "    user_instruction = \"Craft a report section based on the provided sources.\"\n",
    "    section_content = llm.invoke([SystemMessage(content=system_instructions),\n",
    "                                  HumanMessage(content=user_instruction)])\n",
    "\n",
    "    # Write content to section\n",
    "    section.content = section_content.content\n",
    "\n",
    "    print('--- Writing Final Section: '+ section.name + ' Completed ---')\n",
    "    # Write the updated section to completed sections\n",
    "    return {\"completed_sections\": [section]}"
   ]
  },
  {
   "cell_type": "markdown",
   "metadata": {},
   "source": [
    "Parallelisation for Final Section Writing"
   ]
  },
  {
   "cell_type": "code",
   "execution_count": 59,
   "metadata": {},
   "outputs": [],
   "source": [
    "from langgraph.constants import Send\n",
    "\n",
    "def parallelize_final_section_writing(state: ReportState):\n",
    "    \"\"\" Write any final sections using the Send API to parallelize the process \"\"\"\n",
    "\n",
    "    # Kick off section writing in parallel via Send() API for any sections that do not require research\n",
    "    return [\n",
    "        Send(\"write_final_sections\",\n",
    "             {\"section\": s, \"report_sections_from_research\": state[\"report_sections_from_research\"]})\n",
    "                 for s in state[\"sections\"]\n",
    "                    if not s.research #defines no research --> into / conc\n",
    "    ]"
   ]
  },
  {
   "cell_type": "markdown",
   "metadata": {},
   "source": [
    "## Compile Final Report"
   ]
  },
  {
   "cell_type": "markdown",
   "metadata": {},
   "source": [
    "Node Function to Complie Report"
   ]
  },
  {
   "cell_type": "code",
   "execution_count": 60,
   "metadata": {},
   "outputs": [],
   "source": [
    "def compile_final_report(state: ReportState):\n",
    "    \"\"\" Compile the final report \"\"\"\n",
    "\n",
    "    # Get sections\n",
    "    sections = state[\"sections\"]\n",
    "    completed_sections = {s.name: s.content for s in state[\"completed_sections\"]}\n",
    "\n",
    "    print('--- Compiling Final Report ---')\n",
    "    # Update sections with completed content while maintaining original order\n",
    "    for section in sections:\n",
    "        section.content = completed_sections[section.name]\n",
    "\n",
    "    # Compile final report\n",
    "    all_sections = \"\\n\\n\".join([s.content for s in sections])\n",
    "    # Escape unescaped $ symbols to display properly in Markdown\n",
    "    formatted_sections = all_sections.replace(\"\\\\$\", \"TEMP_PLACEHOLDER\")  # Temporarily mark already escaped $\n",
    "    formatted_sections = formatted_sections.replace(\"$\", \"\\\\$\")  # Escape all $\n",
    "    formatted_sections = formatted_sections.replace(\"TEMP_PLACEHOLDER\", \"\\\\$\")  # Restore originally escaped $\n",
    "\n",
    "    # Now escaped_sections contains the properly escaped Markdown text\n",
    "    print('--- Compiling Final Report Done ---')\n",
    "    return {\"final_report\": formatted_sections}"
   ]
  },
  {
   "cell_type": "markdown",
   "metadata": {},
   "source": [
    "## Build Deep Research Agent"
   ]
  },
  {
   "cell_type": "code",
   "execution_count": 61,
   "metadata": {},
   "outputs": [
    {
     "data": {
      "image/png": "[encoded data removed]",
      "text/plain": [
       "<IPython.core.display.Image object>"
      ]
     },
     "metadata": {},
     "output_type": "display_data"
    }
   ],
   "source": [
    "builder = StateGraph(ReportState, input=ReportStateInput, output=ReportStateOutput)\n",
    "\n",
    "builder.add_node(\"generate_report_plan\", generate_report_plan)\n",
    "builder.add_node(\"section_builder_with_web_search\", section_builder_subagent)\n",
    "builder.add_node(\"format_completed_sections\", format_completed_sections)\n",
    "builder.add_node(\"write_final_sections\", write_final_sections)\n",
    "builder.add_node(\"compile_final_report\", compile_final_report)\n",
    "\n",
    "builder.add_edge(START, \"generate_report_plan\")\n",
    "builder.add_conditional_edges(\"generate_report_plan\",\n",
    "                              parallelize_section_writing,\n",
    "                              [\"section_builder_with_web_search\"])\n",
    "builder.add_edge(\"section_builder_with_web_search\", \"format_completed_sections\")\n",
    "builder.add_conditional_edges(\"format_completed_sections\",\n",
    "                              parallelize_final_section_writing,\n",
    "                              [\"write_final_sections\"])\n",
    "builder.add_edge(\"write_final_sections\", \"compile_final_report\")\n",
    "builder.add_edge(\"compile_final_report\", END)\n",
    "\n",
    "reporter_agent = builder.compile()\n",
    "# view agent structure\n",
    "display(Image(reporter_agent.get_graph(xray=True).draw_mermaid_png()))"
   ]
  },
  {
   "cell_type": "markdown",
   "metadata": {},
   "source": [
    "## Run and Test Agent"
   ]
  },
  {
   "cell_type": "markdown",
   "metadata": {},
   "source": [
    "The interface for using your Deep Research agent in the notebook environment, making it easy to trigger the entire workflow and see the results."
   ]
  },
  {
   "cell_type": "code",
   "execution_count": 62,
   "metadata": {},
   "outputs": [],
   "source": [
    "from IPython.display import display\n",
    "from rich.console import Console\n",
    "from rich.markdown import Markdown as RichMarkdown\n",
    "\n",
    "async def call_planner_agent(agent, prompt, config={\"recursion_limit\": 50}, verbose=False):\n",
    "    events = agent.astream(\n",
    "        {'topic' : prompt},\n",
    "        config,\n",
    "        stream_mode=\"values\",\n",
    "    )\n",
    "\n",
    "    async for event in events:\n",
    "        for k, v in event.items():\n",
    "            if verbose:\n",
    "                if k != \"__end__\":\n",
    "                    display(RichMarkdown(repr(k) + ' -> ' + repr(v)))\n",
    "            if k == 'final_report':\n",
    "                print('='*50)\n",
    "                print('Final Report:')\n",
    "                md = RichMarkdown(v)\n",
    "                display(md)"
   ]
  },
  {
   "cell_type": "markdown",
   "metadata": {},
   "source": [
    "Test Run"
   ]
  },
  {
   "cell_type": "code",
   "execution_count": 63,
   "metadata": {},
   "outputs": [
    {
     "name": "stdout",
     "output_type": "stream",
     "text": [
      "--- Generating Report Plan ---\n",
      "--- Generating Report Plan Completed ---\n",
      "--- Generating Search Queries for Section: NVIDIA's Market Dominance ---\n",
      "--- Generating Search Queries for Section: Technological Innovations and Product Offerings ---\n",
      "--- Generating Search Queries for Section: Strategic Acquisitions and Partnerships ---\n",
      "--- Generating Search Queries for Section: Financial Performance and Growth ---\n",
      "--- Generating Search Queries for Section: Challenges and Future Prospects ---\n",
      "--- Generating Search Queries for Section: Financial Performance and Growth Completed ---\n",
      "--- Generating Search Queries for Section: NVIDIA's Market Dominance Completed ---\n",
      "--- Generating Search Queries for Section: Challenges and Future Prospects Completed ---\n",
      "--- Searching Web for Queries ---\n",
      "--- Searching Web for Queries ---\n",
      "--- Searching Web for Queries ---\n",
      "--- Generating Search Queries for Section: Strategic Acquisitions and Partnerships Completed ---\n",
      "--- Searching Web for Queries ---\n",
      "--- Generating Search Queries for Section: Technological Innovations and Product Offerings Completed ---\n",
      "--- Searching Web for Queries ---\n",
      "--- Searching Web for Queries Completed ---\n",
      "--- Writing Section : Financial Performance and Growth ---\n",
      "--- Searching Web for Queries Completed ---\n",
      "--- Writing Section : Strategic Acquisitions and Partnerships ---\n",
      "--- Searching Web for Queries Completed ---\n",
      "--- Writing Section : Technological Innovations and Product Offerings ---\n",
      "--- Searching Web for Queries Completed ---\n",
      "--- Writing Section : Challenges and Future Prospects ---\n",
      "--- Searching Web for Queries Completed ---\n",
      "--- Writing Section : NVIDIA's Market Dominance ---\n",
      "--- Writing Section : Strategic Acquisitions and Partnerships Completed ---\n",
      "--- Writing Section : Technological Innovations and Product Offerings Completed ---\n",
      "--- Writing Section : Financial Performance and Growth Completed ---\n",
      "--- Writing Section : Challenges and Future Prospects Completed ---\n",
      "--- Writing Section : NVIDIA's Market Dominance Completed ---\n",
      "--- Formatting Completed Sections ---\n",
      "--- Formatting Completed Sections is Done ---\n",
      "--- Writing Final Section: Introduction ---\n",
      "--- Writing Final Section: Conclusion ---\n",
      "--- Writing Final Section: Conclusion Completed ---\n",
      "--- Writing Final Section: Introduction Completed ---\n",
      "--- Compiling Final Report ---\n",
      "--- Compiling Final Report Done ---\n",
      "==================================================\n",
      "Final Report:\n"
     ]
    },
    {
     "data": {
      "text/html": [
       "<pre style=\"white-space:pre;overflow-x:auto;line-height:normal;font-family:Menlo,'DejaVu Sans Mono',consolas,'Courier New',monospace\">┏━━━━━━━━━━━━━━━━━━━━━━━━━━━━━━━━━━━━━━━━━━━━━━━━━━━━━━━━━━━━━━━━━━━━━━━━━━━━━━━━━━━━━━━━━━━━━━━━━━━━━━━━━━━━━━━━━┓\n",
       "┃                                                  <span style=\"font-weight: bold\">Introduction</span>                                                   ┃\n",
       "┗━━━━━━━━━━━━━━━━━━━━━━━━━━━━━━━━━━━━━━━━━━━━━━━━━━━━━━━━━━━━━━━━━━━━━━━━━━━━━━━━━━━━━━━━━━━━━━━━━━━━━━━━━━━━━━━━━┛\n",
       "\n",
       "NVIDIA stands as a formidable leader in the technology market, particularly in the GPU industry, where it commands \n",
       "a significant market share. This report delves into NVIDIA's strategic maneuvers that have enabled it to outperform\n",
       "competitors like AMD and Intel. By exploring NVIDIA's technological innovations, strategic acquisitions, and       \n",
       "financial strategies, we aim to understand the factors contributing to its market dominance. Additionally, the     \n",
       "report will address the challenges NVIDIA faces and its future prospects in an increasingly competitive landscape. \n",
       "Through this analysis, we seek to uncover the key elements driving NVIDIA's sustained success and market           \n",
       "leadership.                                                                                                        \n",
       "\n",
       "\n",
       "                                             <span style=\"font-weight: bold; text-decoration: underline\">NVIDIA's Market Dominance</span>                                             \n",
       "\n",
       "<span style=\"font-weight: bold\">NVIDIA commands an overwhelming 90% of the GPU market share as of Q4 2024, underscoring its dominance over AMD and </span>\n",
       "<span style=\"font-weight: bold\">Intel.</span> This market position is attributed to several factors, including NVIDIA's advanced GPU architectures like   \n",
       "Blackwell, which significantly enhance AI and gaming performance. NVIDIA's strategic focus on AI workloads and     \n",
       "high-performance computing has further solidified its leadership. For instance, the Blackwell architecture, with   \n",
       "its 208 billion transistors, exemplifies NVIDIA's commitment to cutting-edge technology.                           \n",
       "\n",
       "Despite a slight decline in discrete desktop GPU market share in late 2024, NVIDIA maintained an 82% share, while  \n",
       "AMD and Intel gained marginally. This shift was partly due to NVIDIA reallocating production capacity to datacenter\n",
       "GPUs, reflecting its strategic pivot towards AI and cloud computing markets. NVIDIA's ability to adapt and         \n",
       "innovate, as seen with its RTX 40-series GPUs, continues to set it apart from competitors.                         \n",
       "\n",
       "                                                      <span style=\"font-weight: bold\">Sources</span>                                                      \n",
       "\n",
       "<span style=\"color: #808000; text-decoration-color: #808000; font-weight: bold\"> • </span>Nvidia's GPU market share hits 90% in Q4 2024:                                                                  \n",
       "<span style=\"color: #808000; text-decoration-color: #808000; font-weight: bold\">   </span>https://www.techpowerup.com/forums/threads/nvidias-gpu-market-share-hits-90-in-q4-2024-gets-closer-to-full-monop\n",
       "<span style=\"color: #808000; text-decoration-color: #808000; font-weight: bold\">   </span>oly.329842/                                                                                                     \n",
       "<span style=\"color: #808000; text-decoration-color: #808000; font-weight: bold\"> • </span>AMD grabs GPU market share from Nvidia as GPU shipments rise:                                                   \n",
       "<span style=\"color: #808000; text-decoration-color: #808000; font-weight: bold\">   </span>https://www.tomshardware.com/tech-industry/amd-grabs-a-share-of-the-gpu-market-from-nvidia-as-gpu-shipments-rise\n",
       "<span style=\"color: #808000; text-decoration-color: #808000; font-weight: bold\">   </span>-slightly-in-q4                                                                                                 \n",
       "<span style=\"color: #808000; text-decoration-color: #808000; font-weight: bold\"> • </span>Nvidia's GPU Market Dominance: A Closer Look:                                                                   \n",
       "<span style=\"color: #808000; text-decoration-color: #808000; font-weight: bold\">   </span>https://www.ainvest.com/news/nvidia-s-gpu-market-dominance-a-closer-look-24121010c746fbbafd805832/              \n",
       "\n",
       "\n",
       "                                  <span style=\"font-weight: bold; text-decoration: underline\">Technological Innovations and Product Offerings</span>                                  \n",
       "\n",
       "<span style=\"font-weight: bold\">NVIDIA's advancements in AI and machine learning are revolutionizing industries through cutting-edge technologies </span> \n",
       "<span style=\"font-weight: bold\">and strategic partnerships.</span> At Computex 2024, NVIDIA unveiled the Blackwell platform and Spectrum-X Ethernet       \n",
       "network, showcasing innovations in AI and computing. The Blackwell GPU architecture, a successor to the Ampere     \n",
       "series, offers significant improvements in AI processing capabilities, making it a leader in AI applications.      \n",
       "NVIDIA's CUDA architecture, with over 48 million downloads, remains pivotal in GPU-centric applications, enabling  \n",
       "parallel processing for AI models.                                                                                 \n",
       "\n",
       "NVIDIA's collaboration with AWS exemplifies its impact on cloud computing. The integration of NVIDIA's Neural      \n",
       "Interface Models (NIM) on AWS has enhanced AI inference capabilities, as demonstrated by A-Alpha Bio's AlphaBind   \n",
       "model, which achieved a 12-fold increase in inference speed using BioNeMo on AWS infrastructure. This collaboration\n",
       "accelerates research in biotechnology, showcasing NVIDIA's role in advancing scientific discovery.                 \n",
       "\n",
       "NVIDIA's influence extends to the automotive industry, where its AI technologies are transforming autonomous       \n",
       "vehicles and advanced driver-assistance systems (ADAS). The DRIVE AGX platform enables real-time decision-making,  \n",
       "enhancing safety and efficiency in self-driving cars.                                                              \n",
       "\n",
       "                                                      <span style=\"font-weight: bold\">Sources</span>                                                      \n",
       "\n",
       "<span style=\"color: #808000; text-decoration-color: #808000; font-weight: bold\"> • </span>AI, AI and more AI: A deep dive into Nvidia's announcements at Computex 2024:                                   \n",
       "<span style=\"color: #808000; text-decoration-color: #808000; font-weight: bold\">   </span>https://siliconangle.com/2024/06/02/ai-ai-ai-deep-dive-nvidias-announcements-computex-2024/                     \n",
       "<span style=\"color: #808000; text-decoration-color: #808000; font-weight: bold\"> • </span>Nvidia &amp; AWS's AI Breakthroughs at Re:Invent 2024:                                                              \n",
       "<span style=\"color: #808000; text-decoration-color: #808000; font-weight: bold\">   </span>https://technologymagazine.com/articles/nvidia-awss-ai-breakthroughs-at-re-invent-2024                          \n",
       "<span style=\"color: #808000; text-decoration-color: #808000; font-weight: bold\"> • </span>Nvidia Drives Automotive Industry Through AI - EE Times Europe:                                                 \n",
       "<span style=\"color: #808000; text-decoration-color: #808000; font-weight: bold\">   </span>https://www.eetimes.eu/what-is-nvidia-doing-in-automotive/                                                      \n",
       "\n",
       "\n",
       "                                      <span style=\"font-weight: bold; text-decoration: underline\">Strategic Acquisitions and Partnerships</span>                                      \n",
       "\n",
       "<span style=\"font-weight: bold\">NVIDIA's strategic acquisitions in 2024 have significantly bolstered its technological capabilities and market </span>    \n",
       "<span style=\"font-weight: bold\">reach.</span> A notable acquisition was Arm Limited for $40 billion, merging NVIDIA's AI computing platform with Arm's    \n",
       "ecosystem, which has shipped 180 billion chips. This acquisition is pivotal for redefining computing in the AI era.\n",
       "Another key acquisition was Deci, an Israeli company, for $300 million. Deci's deep learning acceleration platform \n",
       "improved performance by up to 15 times, enhancing NVIDIA's AI capabilities.                                        \n",
       "\n",
       "NVIDIA's partnerships have also been strategic. In June 2024, NVIDIA partnered with Trend Micro to develop         \n",
       "AI-driven security tools for data centers, integrating NVIDIA’s AI technology with Trend Micro’s cybersecurity     \n",
       "solutions. Additionally, NVIDIA's collaboration with ServiceNow aims to build generative AI capabilities for       \n",
       "enterprise IT, leveraging NVIDIA's software and infrastructure.                                                    \n",
       "\n",
       "These strategic moves have not only expanded NVIDIA's technological prowess but also solidified its position as a  \n",
       "leader in AI and computing technologies, contributing to its market capitalization surpassing $3.5 trillion in     \n",
       "2024.                                                                                                              \n",
       "\n",
       "                                                      <span style=\"font-weight: bold\">Sources</span>                                                      \n",
       "\n",
       "<span style=\"color: #808000; text-decoration-color: #808000; font-weight: bold\"> • </span>2024 Marks a Year of Major Acquisitions for NVIDIA:                                                             \n",
       "<span style=\"color: #808000; text-decoration-color: #808000; font-weight: bold\">   </span>https://analyticsindiamag.com/ai-features/2024-marks-a-year-of-major-acquisitions-for-nvidia/                   \n",
       "<span style=\"color: #808000; text-decoration-color: #808000; font-weight: bold\"> • </span>Mapping Nvidia's Expansion with 17 Strategic Acquisitions:                                                      \n",
       "<span style=\"color: #808000; text-decoration-color: #808000; font-weight: bold\">   </span>https://cioinfluence.com/it-and-devops/mapping-nvidias-expansion-with-17-strategic-acquisitions/                \n",
       "<span style=\"color: #808000; text-decoration-color: #808000; font-weight: bold\"> • </span>NVIDIA Facts and Statistics (2025) - Investing.com:                                                             \n",
       "<span style=\"color: #808000; text-decoration-color: #808000; font-weight: bold\">   </span>https://www.investing.com/academy/statistics/nvidia-facts-and-statistics/                                       \n",
       "\n",
       "\n",
       "                                         <span style=\"font-weight: bold; text-decoration: underline\">Financial Performance and Growth</span>                                          \n",
       "\n",
       "<span style=\"font-weight: bold\">NVIDIA's revenue growth and profitability significantly outpace its competitors, driven by strategic financial </span>    \n",
       "<span style=\"font-weight: bold\">management and market leadership in AI.</span> In fiscal 2023, NVIDIA reported a revenue of $26.97 billion, remaining flat\n",
       "from the previous year, but its strategic positioning in AI has set the stage for future growth. Despite a 21%     \n",
       "year-over-year decline in Q4 2023 revenue to $6.05 billion, NVIDIA's gross margin improved to 66.1%, up 10         \n",
       "percentage points from the previous quarter, showcasing operational efficiency.                                    \n",
       "\n",
       "NVIDIA's financial strategies include:                                                                             \n",
       "\n",
       "<span style=\"color: #808000; text-decoration-color: #808000; font-weight: bold\"> • </span><span style=\"font-weight: bold\">AI Market Leadership:</span> NVIDIA's dominance in AI and GPU markets has been pivotal, with AI adoption driving       \n",
       "<span style=\"color: #808000; text-decoration-color: #808000; font-weight: bold\">   </span>demand.                                                                                                         \n",
       "<span style=\"color: #808000; text-decoration-color: #808000; font-weight: bold\"> • </span><span style=\"font-weight: bold\">Operational Efficiency:</span> Improved gross margins and strategic inventory management have enhanced profitability.  \n",
       "<span style=\"color: #808000; text-decoration-color: #808000; font-weight: bold\"> • </span><span style=\"font-weight: bold\">Competitive Positioning:</span> NVIDIA's revenue growth of 93.61% in 2024 far exceeded the industry average of 14.97%, \n",
       "<span style=\"color: #808000; text-decoration-color: #808000; font-weight: bold\">   </span>highlighting its market outperformance.                                                                         \n",
       "\n",
       "Compared to AMD and Intel, NVIDIA consistently achieves higher gross and operating profits, reflecting superior    \n",
       "financial performance. For instance, NVIDIA's expected fiscal 2025 revenue of $128.6 billion dwarfs Intel's $52.6  \n",
       "billion and AMD's $25.6 billion, underscoring its market leadership.                                               \n",
       "\n",
       "                                                      <span style=\"font-weight: bold\">Sources</span>                                                      \n",
       "\n",
       "<span style=\"color: #808000; text-decoration-color: #808000; font-weight: bold\"> • </span>NVIDIA Announces Financial Results for Fourth Quarter and Fiscal 2023:                                          \n",
       "<span style=\"color: #808000; text-decoration-color: #808000; font-weight: bold\">   </span>https://nvidianews.nvidia.com/news/nvidia-announces-financial-results-for-fourth-quarter-and-fiscal-2023        \n",
       "<span style=\"color: #808000; text-decoration-color: #808000; font-weight: bold\"> • </span>Analysis: Nvidia Made A Lot More Money Than Intel, AMD ... - CRN:                                               \n",
       "<span style=\"color: #808000; text-decoration-color: #808000; font-weight: bold\">   </span>https://www.crn.com/news/components-peripherals/2024/analysis-nvidia-made-a-lot-more-money-than-intel-amd-combin\n",
       "<span style=\"color: #808000; text-decoration-color: #808000; font-weight: bold\">   </span>ed-last-quarter                                                                                                 \n",
       "<span style=\"color: #808000; text-decoration-color: #808000; font-weight: bold\"> • </span>Market Analysis: NVIDIA And Competitors In Semiconductors ...:                                                  \n",
       "<span style=\"color: #808000; text-decoration-color: #808000; font-weight: bold\">   </span>https://www.nasdaq.com/articles/market-analysis-nvidia-and-competitors-semiconductors-semiconductor-equipment-in\n",
       "<span style=\"color: #808000; text-decoration-color: #808000; font-weight: bold\">   </span>dustry-7                                                                                                        \n",
       "\n",
       "\n",
       "                                          <span style=\"font-weight: bold; text-decoration: underline\">Challenges and Future Prospects</span>                                          \n",
       "\n",
       "<span style=\"font-weight: bold\">NVIDIA's dominance in AI chips is under threat from increasing competition and market saturation.</span> Despite shipping \n",
       "over 34.6 million GPUs in 2024 and generating $25 billion from AI chip sales, NVIDIA faces significant challenges. \n",
       "Competitors like AMD and Intel are closing the gap with products such as AMD's MI300X and Intel's Gaudi 3, directly\n",
       "challenging NVIDIA's H100 Hopper chips. Additionally, tech giants like Google, Amazon, and Microsoft are developing\n",
       "their own AI chips, further intensifying competition.                                                              \n",
       "\n",
       "NVIDIA's future prospects hinge on its ability to innovate and maintain its technological edge. The company has    \n",
       "launched the B200 AI chip, touted as the \"world's most powerful,\" to extend its dominance. However, the potential  \n",
       "saturation of the AI training market poses a risk, as demand may decline after initial infrastructure setups. This \n",
       "could shift focus back to traditional CPU giants.                                                                  \n",
       "\n",
       "To navigate these challenges, NVIDIA must continue leveraging its CUDA software base, which has been a cornerstone \n",
       "of its success. The company's strategic partnerships and investments in AI infrastructure will be crucial in       \n",
       "sustaining its leadership in the evolving technology landscape.                                                    \n",
       "\n",
       "                                                      <span style=\"font-weight: bold\">Sources</span>                                                      \n",
       "\n",
       "<span style=\"color: #808000; text-decoration-color: #808000; font-weight: bold\"> • </span>Nvidia dominated 2024 big-time. Next year? Plenty of challenges.:                                               \n",
       "<span style=\"color: #808000; text-decoration-color: #808000; font-weight: bold\">   </span>https://finance.yahoo.com/news/nvidia-dominated-2024-big-time-next-year-plenty-of-challenges-110047391.html     \n",
       "<span style=\"color: #808000; text-decoration-color: #808000; font-weight: bold\"> • </span>Nvidia vs the World: 2024's High-Stakes AI Chip Battle - Medium:                                                \n",
       "<span style=\"color: #808000; text-decoration-color: #808000; font-weight: bold\">   </span>https://medium.com/aicorporateedge/nvidias-ai-chip-dominance-in-2024-a-high-stakes-tech-battle-9079594980ab     \n",
       "<span style=\"color: #808000; text-decoration-color: #808000; font-weight: bold\"> • </span>The AI Chip Race: NVIDIA's Surging Success and Potential ... - CFTE:                                            \n",
       "<span style=\"color: #808000; text-decoration-color: #808000; font-weight: bold\">   </span>https://blog.cfte.education/ai-chip-race-nvidia-2024/                                                           \n",
       "\n",
       "\n",
       "                                                    <span style=\"font-weight: bold; text-decoration: underline\">Conclusion</span>                                                     \n",
       "\n",
       "NVIDIA's strategic maneuvers have solidified its position as a leader in the GPU and AI markets. The company's     \n",
       "dominance is evident with a 90% market share, driven by advanced architectures like Blackwell and strategic pivots \n",
       "towards AI and cloud computing. Technological innovations, such as the Blackwell platform and partnerships with    \n",
       "AWS, have revolutionized industries from biotechnology to automotive. Strategic acquisitions, including Arm Limited\n",
       "and Deci, have expanded NVIDIA's technological capabilities and market reach. Financially, NVIDIA outpaces         \n",
       "competitors with superior revenue growth and profitability, despite challenges from AMD, Intel, and tech giants    \n",
       "developing their own AI chips. To maintain its edge, NVIDIA must continue innovating and leveraging its CUDA       \n",
       "software base. The following table summarizes NVIDIA's competitive advantages:                                     \n",
       "\n",
       "                                                                           \n",
       " <span style=\"font-weight: bold\"> Aspect                   </span> <span style=\"font-weight: bold\"> NVIDIA's Edge                                </span> \n",
       " ━━━━━━━━━━━━━━━━━━━━━━━━━━━━━━━━━━━━━━━━━━━━━━━━━━━━━━━━━━━━━━━━━━━━━━━━━ \n",
       "  Market Share               90% in GPU market                             \n",
       "  Technological Innovation   Blackwell architecture, AI advancements       \n",
       "  Strategic Acquisitions     Arm Limited, Deci                             \n",
       "  Financial Performance      Revenue growth of 93.61% in 2024              \n",
       "  Challenges                 Competition from AMD, Intel, and tech giants  \n",
       "                                                                           \n",
       "\n",
       "NVIDIA's future success will depend on sustaining innovation and strategic partnerships.                           \n",
       "</pre>\n"
      ],
      "text/plain": [
       "┏━━━━━━━━━━━━━━━━━━━━━━━━━━━━━━━━━━━━━━━━━━━━━━━━━━━━━━━━━━━━━━━━━━━━━━━━━━━━━━━━━━━━━━━━━━━━━━━━━━━━━━━━━━━━━━━━━┓\n",
       "┃                                                  \u001b[1mIntroduction\u001b[0m                                                   ┃\n",
       "┗━━━━━━━━━━━━━━━━━━━━━━━━━━━━━━━━━━━━━━━━━━━━━━━━━━━━━━━━━━━━━━━━━━━━━━━━━━━━━━━━━━━━━━━━━━━━━━━━━━━━━━━━━━━━━━━━━┛\n",
       "\n",
       "NVIDIA stands as a formidable leader in the technology market, particularly in the GPU industry, where it commands \n",
       "a significant market share. This report delves into NVIDIA's strategic maneuvers that have enabled it to outperform\n",
       "competitors like AMD and Intel. By exploring NVIDIA's technological innovations, strategic acquisitions, and       \n",
       "financial strategies, we aim to understand the factors contributing to its market dominance. Additionally, the     \n",
       "report will address the challenges NVIDIA faces and its future prospects in an increasingly competitive landscape. \n",
       "Through this analysis, we seek to uncover the key elements driving NVIDIA's sustained success and market           \n",
       "leadership.                                                                                                        \n",
       "\n",
       "\n",
       "                                             \u001b[1;4mNVIDIA's Market Dominance\u001b[0m                                             \n",
       "\n",
       "\u001b[1mNVIDIA commands an overwhelming 90% of the GPU market share as of Q4 2024, underscoring its dominance over AMD and \u001b[0m\n",
       "\u001b[1mIntel.\u001b[0m This market position is attributed to several factors, including NVIDIA's advanced GPU architectures like   \n",
       "Blackwell, which significantly enhance AI and gaming performance. NVIDIA's strategic focus on AI workloads and     \n",
       "high-performance computing has further solidified its leadership. For instance, the Blackwell architecture, with   \n",
       "its 208 billion transistors, exemplifies NVIDIA's commitment to cutting-edge technology.                           \n",
       "\n",
       "Despite a slight decline in discrete desktop GPU market share in late 2024, NVIDIA maintained an 82% share, while  \n",
       "AMD and Intel gained marginally. This shift was partly due to NVIDIA reallocating production capacity to datacenter\n",
       "GPUs, reflecting its strategic pivot towards AI and cloud computing markets. NVIDIA's ability to adapt and         \n",
       "innovate, as seen with its RTX 40-series GPUs, continues to set it apart from competitors.                         \n",
       "\n",
       "                                                      \u001b[1mSources\u001b[0m                                                      \n",
       "\n",
       "\u001b[1;33m • \u001b[0mNvidia's GPU market share hits 90% in Q4 2024:                                                                  \n",
       "\u001b[1;33m   \u001b[0mhttps://www.techpowerup.com/forums/threads/nvidias-gpu-market-share-hits-90-in-q4-2024-gets-closer-to-full-monop\n",
       "\u001b[1;33m   \u001b[0moly.329842/                                                                                                     \n",
       "\u001b[1;33m • \u001b[0mAMD grabs GPU market share from Nvidia as GPU shipments rise:                                                   \n",
       "\u001b[1;33m   \u001b[0mhttps://www.tomshardware.com/tech-industry/amd-grabs-a-share-of-the-gpu-market-from-nvidia-as-gpu-shipments-rise\n",
       "\u001b[1;33m   \u001b[0m-slightly-in-q4                                                                                                 \n",
       "\u001b[1;33m • \u001b[0mNvidia's GPU Market Dominance: A Closer Look:                                                                   \n",
       "\u001b[1;33m   \u001b[0mhttps://www.ainvest.com/news/nvidia-s-gpu-market-dominance-a-closer-look-24121010c746fbbafd805832/              \n",
       "\n",
       "\n",
       "                                  \u001b[1;4mTechnological Innovations and Product Offerings\u001b[0m                                  \n",
       "\n",
       "\u001b[1mNVIDIA's advancements in AI and machine learning are revolutionizing industries through cutting-edge technologies \u001b[0m \n",
       "\u001b[1mand strategic partnerships.\u001b[0m At Computex 2024, NVIDIA unveiled the Blackwell platform and Spectrum-X Ethernet       \n",
       "network, showcasing innovations in AI and computing. The Blackwell GPU architecture, a successor to the Ampere     \n",
       "series, offers significant improvements in AI processing capabilities, making it a leader in AI applications.      \n",
       "NVIDIA's CUDA architecture, with over 48 million downloads, remains pivotal in GPU-centric applications, enabling  \n",
       "parallel processing for AI models.                                                                                 \n",
       "\n",
       "NVIDIA's collaboration with AWS exemplifies its impact on cloud computing. The integration of NVIDIA's Neural      \n",
       "Interface Models (NIM) on AWS has enhanced AI inference capabilities, as demonstrated by A-Alpha Bio's AlphaBind   \n",
       "model, which achieved a 12-fold increase in inference speed using BioNeMo on AWS infrastructure. This collaboration\n",
       "accelerates research in biotechnology, showcasing NVIDIA's role in advancing scientific discovery.                 \n",
       "\n",
       "NVIDIA's influence extends to the automotive industry, where its AI technologies are transforming autonomous       \n",
       "vehicles and advanced driver-assistance systems (ADAS). The DRIVE AGX platform enables real-time decision-making,  \n",
       "enhancing safety and efficiency in self-driving cars.                                                              \n",
       "\n",
       "                                                      \u001b[1mSources\u001b[0m                                                      \n",
       "\n",
       "\u001b[1;33m • \u001b[0mAI, AI and more AI: A deep dive into Nvidia's announcements at Computex 2024:                                   \n",
       "\u001b[1;33m   \u001b[0mhttps://siliconangle.com/2024/06/02/ai-ai-ai-deep-dive-nvidias-announcements-computex-2024/                     \n",
       "\u001b[1;33m • \u001b[0mNvidia & AWS's AI Breakthroughs at Re:Invent 2024:                                                              \n",
       "\u001b[1;33m   \u001b[0mhttps://technologymagazine.com/articles/nvidia-awss-ai-breakthroughs-at-re-invent-2024                          \n",
       "\u001b[1;33m • \u001b[0mNvidia Drives Automotive Industry Through AI - EE Times Europe:                                                 \n",
       "\u001b[1;33m   \u001b[0mhttps://www.eetimes.eu/what-is-nvidia-doing-in-automotive/                                                      \n",
       "\n",
       "\n",
       "                                      \u001b[1;4mStrategic Acquisitions and Partnerships\u001b[0m                                      \n",
       "\n",
       "\u001b[1mNVIDIA's strategic acquisitions in 2024 have significantly bolstered its technological capabilities and market \u001b[0m    \n",
       "\u001b[1mreach.\u001b[0m A notable acquisition was Arm Limited for $40 billion, merging NVIDIA's AI computing platform with Arm's    \n",
       "ecosystem, which has shipped 180 billion chips. This acquisition is pivotal for redefining computing in the AI era.\n",
       "Another key acquisition was Deci, an Israeli company, for $300 million. Deci's deep learning acceleration platform \n",
       "improved performance by up to 15 times, enhancing NVIDIA's AI capabilities.                                        \n",
       "\n",
       "NVIDIA's partnerships have also been strategic. In June 2024, NVIDIA partnered with Trend Micro to develop         \n",
       "AI-driven security tools for data centers, integrating NVIDIA’s AI technology with Trend Micro’s cybersecurity     \n",
       "solutions. Additionally, NVIDIA's collaboration with ServiceNow aims to build generative AI capabilities for       \n",
       "enterprise IT, leveraging NVIDIA's software and infrastructure.                                                    \n",
       "\n",
       "These strategic moves have not only expanded NVIDIA's technological prowess but also solidified its position as a  \n",
       "leader in AI and computing technologies, contributing to its market capitalization surpassing $3.5 trillion in     \n",
       "2024.                                                                                                              \n",
       "\n",
       "                                                      \u001b[1mSources\u001b[0m                                                      \n",
       "\n",
       "\u001b[1;33m • \u001b[0m2024 Marks a Year of Major Acquisitions for NVIDIA:                                                             \n",
       "\u001b[1;33m   \u001b[0mhttps://analyticsindiamag.com/ai-features/2024-marks-a-year-of-major-acquisitions-for-nvidia/                   \n",
       "\u001b[1;33m • \u001b[0mMapping Nvidia's Expansion with 17 Strategic Acquisitions:                                                      \n",
       "\u001b[1;33m   \u001b[0mhttps://cioinfluence.com/it-and-devops/mapping-nvidias-expansion-with-17-strategic-acquisitions/                \n",
       "\u001b[1;33m • \u001b[0mNVIDIA Facts and Statistics (2025) - Investing.com:                                                             \n",
       "\u001b[1;33m   \u001b[0mhttps://www.investing.com/academy/statistics/nvidia-facts-and-statistics/                                       \n",
       "\n",
       "\n",
       "                                         \u001b[1;4mFinancial Performance and Growth\u001b[0m                                          \n",
       "\n",
       "\u001b[1mNVIDIA's revenue growth and profitability significantly outpace its competitors, driven by strategic financial \u001b[0m    \n",
       "\u001b[1mmanagement and market leadership in AI.\u001b[0m In fiscal 2023, NVIDIA reported a revenue of $26.97 billion, remaining flat\n",
       "from the previous year, but its strategic positioning in AI has set the stage for future growth. Despite a 21%     \n",
       "year-over-year decline in Q4 2023 revenue to $6.05 billion, NVIDIA's gross margin improved to 66.1%, up 10         \n",
       "percentage points from the previous quarter, showcasing operational efficiency.                                    \n",
       "\n",
       "NVIDIA's financial strategies include:                                                                             \n",
       "\n",
       "\u001b[1;33m • \u001b[0m\u001b[1mAI Market Leadership:\u001b[0m NVIDIA's dominance in AI and GPU markets has been pivotal, with AI adoption driving       \n",
       "\u001b[1;33m   \u001b[0mdemand.                                                                                                         \n",
       "\u001b[1;33m • \u001b[0m\u001b[1mOperational Efficiency:\u001b[0m Improved gross margins and strategic inventory management have enhanced profitability.  \n",
       "\u001b[1;33m • \u001b[0m\u001b[1mCompetitive Positioning:\u001b[0m NVIDIA's revenue growth of 93.61% in 2024 far exceeded the industry average of 14.97%, \n",
       "\u001b[1;33m   \u001b[0mhighlighting its market outperformance.                                                                         \n",
       "\n",
       "Compared to AMD and Intel, NVIDIA consistently achieves higher gross and operating profits, reflecting superior    \n",
       "financial performance. For instance, NVIDIA's expected fiscal 2025 revenue of $128.6 billion dwarfs Intel's $52.6  \n",
       "billion and AMD's $25.6 billion, underscoring its market leadership.                                               \n",
       "\n",
       "                                                      \u001b[1mSources\u001b[0m                                                      \n",
       "\n",
       "\u001b[1;33m • \u001b[0mNVIDIA Announces Financial Results for Fourth Quarter and Fiscal 2023:                                          \n",
       "\u001b[1;33m   \u001b[0mhttps://nvidianews.nvidia.com/news/nvidia-announces-financial-results-for-fourth-quarter-and-fiscal-2023        \n",
       "\u001b[1;33m • \u001b[0mAnalysis: Nvidia Made A Lot More Money Than Intel, AMD ... - CRN:                                               \n",
       "\u001b[1;33m   \u001b[0mhttps://www.crn.com/news/components-peripherals/2024/analysis-nvidia-made-a-lot-more-money-than-intel-amd-combin\n",
       "\u001b[1;33m   \u001b[0med-last-quarter                                                                                                 \n",
       "\u001b[1;33m • \u001b[0mMarket Analysis: NVIDIA And Competitors In Semiconductors ...:                                                  \n",
       "\u001b[1;33m   \u001b[0mhttps://www.nasdaq.com/articles/market-analysis-nvidia-and-competitors-semiconductors-semiconductor-equipment-in\n",
       "\u001b[1;33m   \u001b[0mdustry-7                                                                                                        \n",
       "\n",
       "\n",
       "                                          \u001b[1;4mChallenges and Future Prospects\u001b[0m                                          \n",
       "\n",
       "\u001b[1mNVIDIA's dominance in AI chips is under threat from increasing competition and market saturation.\u001b[0m Despite shipping \n",
       "over 34.6 million GPUs in 2024 and generating $25 billion from AI chip sales, NVIDIA faces significant challenges. \n",
       "Competitors like AMD and Intel are closing the gap with products such as AMD's MI300X and Intel's Gaudi 3, directly\n",
       "challenging NVIDIA's H100 Hopper chips. Additionally, tech giants like Google, Amazon, and Microsoft are developing\n",
       "their own AI chips, further intensifying competition.                                                              \n",
       "\n",
       "NVIDIA's future prospects hinge on its ability to innovate and maintain its technological edge. The company has    \n",
       "launched the B200 AI chip, touted as the \"world's most powerful,\" to extend its dominance. However, the potential  \n",
       "saturation of the AI training market poses a risk, as demand may decline after initial infrastructure setups. This \n",
       "could shift focus back to traditional CPU giants.                                                                  \n",
       "\n",
       "To navigate these challenges, NVIDIA must continue leveraging its CUDA software base, which has been a cornerstone \n",
       "of its success. The company's strategic partnerships and investments in AI infrastructure will be crucial in       \n",
       "sustaining its leadership in the evolving technology landscape.                                                    \n",
       "\n",
       "                                                      \u001b[1mSources\u001b[0m                                                      \n",
       "\n",
       "\u001b[1;33m • \u001b[0mNvidia dominated 2024 big-time. Next year? Plenty of challenges.:                                               \n",
       "\u001b[1;33m   \u001b[0mhttps://finance.yahoo.com/news/nvidia-dominated-2024-big-time-next-year-plenty-of-challenges-110047391.html     \n",
       "\u001b[1;33m • \u001b[0mNvidia vs the World: 2024's High-Stakes AI Chip Battle - Medium:                                                \n",
       "\u001b[1;33m   \u001b[0mhttps://medium.com/aicorporateedge/nvidias-ai-chip-dominance-in-2024-a-high-stakes-tech-battle-9079594980ab     \n",
       "\u001b[1;33m • \u001b[0mThe AI Chip Race: NVIDIA's Surging Success and Potential ... - CFTE:                                            \n",
       "\u001b[1;33m   \u001b[0mhttps://blog.cfte.education/ai-chip-race-nvidia-2024/                                                           \n",
       "\n",
       "\n",
       "                                                    \u001b[1;4mConclusion\u001b[0m                                                     \n",
       "\n",
       "NVIDIA's strategic maneuvers have solidified its position as a leader in the GPU and AI markets. The company's     \n",
       "dominance is evident with a 90% market share, driven by advanced architectures like Blackwell and strategic pivots \n",
       "towards AI and cloud computing. Technological innovations, such as the Blackwell platform and partnerships with    \n",
       "AWS, have revolutionized industries from biotechnology to automotive. Strategic acquisitions, including Arm Limited\n",
       "and Deci, have expanded NVIDIA's technological capabilities and market reach. Financially, NVIDIA outpaces         \n",
       "competitors with superior revenue growth and profitability, despite challenges from AMD, Intel, and tech giants    \n",
       "developing their own AI chips. To maintain its edge, NVIDIA must continue innovating and leveraging its CUDA       \n",
       "software base. The following table summarizes NVIDIA's competitive advantages:                                     \n",
       "\n",
       "                                                                           \n",
       " \u001b[1m \u001b[0m\u001b[1mAspect\u001b[0m\u001b[1m                  \u001b[0m\u001b[1m \u001b[0m \u001b[1m \u001b[0m\u001b[1mNVIDIA's Edge\u001b[0m\u001b[1m                               \u001b[0m\u001b[1m \u001b[0m \n",
       " ━━━━━━━━━━━━━━━━━━━━━━━━━━━━━━━━━━━━━━━━━━━━━━━━━━━━━━━━━━━━━━━━━━━━━━━━━ \n",
       "  Market Share               90% in GPU market                             \n",
       "  Technological Innovation   Blackwell architecture, AI advancements       \n",
       "  Strategic Acquisitions     Arm Limited, Deci                             \n",
       "  Financial Performance      Revenue growth of 93.61% in 2024              \n",
       "  Challenges                 Competition from AMD, Intel, and tech giants  \n",
       "                                                                           \n",
       "\n",
       "NVIDIA's future success will depend on sustaining innovation and strategic partnerships.                           \n"
      ]
     },
     "metadata": {},
     "output_type": "display_data"
    }
   ],
   "source": [
    "topic = \"Detailed report on how is NVIDIA winning the game against its competitors\"\n",
    "await call_planner_agent(agent=reporter_agent,\n",
    "                         prompt=topic)"
   ]
  }
 ],
 "metadata": {
  "kernelspec": {
   "display_name": "DeepResearchProj",
   "language": "python",
   "name": "python3"
  },
  "language_info": {
   "codemirror_mode": {
    "name": "ipython",
    "version": 3
   },
   "file_extension": ".py",
   "mimetype": "text/x-python",
   "name": "python",
   "nbconvert_exporter": "python",
   "pygments_lexer": "ipython3",
   "version": "3.12.9"
  }
 },
 "nbformat": 4,
 "nbformat_minor": 2
}
